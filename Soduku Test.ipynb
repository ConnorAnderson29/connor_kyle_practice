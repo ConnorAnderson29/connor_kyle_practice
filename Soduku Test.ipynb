{
 "cells": [
  {
   "cell_type": "code",
   "execution_count": 1,
   "metadata": {},
   "outputs": [],
   "source": [
    "import pandas as pd\n",
    "import numpy as np"
   ]
  },
  {
   "cell_type": "code",
   "execution_count": 3,
   "metadata": {},
   "outputs": [],
   "source": [
    "board = [\n",
    "    [7,8,0,4,0,0,1,2,0],\n",
    "    [6,0,0,0,7,5,0,0,9],\n",
    "    [0,0,0,6,0,1,0,7,8],\n",
    "    [0,0,7,0,4,0,2,6,0],\n",
    "    [0,0,1,0,5,0,9,3,0],\n",
    "    [9,0,4,0,6,0,0,0,5],\n",
    "    [0,7,0,3,0,0,0,1,2],\n",
    "    [1,2,0,0,0,7,4,0,0],\n",
    "    [0,4,9,2,0,6,0,0,7]\n",
    "]\n"
   ]
  },
  {
   "cell_type": "code",
   "execution_count": 4,
   "metadata": {},
   "outputs": [],
   "source": [
    "## write function to build board, every 4th line there needs to be a dotted line "
   ]
  },
  {
   "cell_type": "code",
   "execution_count": 5,
   "metadata": {},
   "outputs": [],
   "source": [
    "def print_board(board):\n",
    "    for i in range(len(board)):\n",
    "        if i % 3 == 0 and i != 0:\n",
    "            print(\"- - - - - - - - - - - -\")\n",
    "        for j in range(len(board[0])):\n",
    "            if j % 3 == 0 and j != 0:\n",
    "                print(\" | \", end =\"\")\n",
    "            if j == 8:\n",
    "                print(board[i][j])\n",
    "            else:\n",
    "                print(str(board[i][j]) + \" \", end=\"\")\n",
    "                "
   ]
  },
  {
   "cell_type": "code",
   "execution_count": 7,
   "metadata": {},
   "outputs": [
    {
     "name": "stdout",
     "output_type": "stream",
     "text": [
      "7 8 0  | 4 0 0  | 1 2 0\n",
      "6 0 0  | 0 7 5  | 0 0 9\n",
      "0 0 0  | 6 0 1  | 0 7 8\n",
      "- - - - - - - - - - - -\n",
      "0 0 7  | 0 4 0  | 2 6 0\n",
      "0 0 1  | 0 5 0  | 9 3 0\n",
      "9 0 4  | 0 6 0  | 0 0 5\n",
      "- - - - - - - - - - - -\n",
      "0 7 0  | 3 0 0  | 0 1 2\n",
      "1 2 0  | 0 0 7  | 4 0 0\n",
      "0 4 9  | 2 0 6  | 0 0 7\n"
     ]
    }
   ],
   "source": [
    "print_board(board)"
   ]
  },
  {
   "cell_type": "code",
   "execution_count": 8,
   "metadata": {},
   "outputs": [],
   "source": [
    "def find_empty(board):\n",
    "    '''Finds empty aka(0) in board and returns coordinates\n",
    "    i.e(row, column)'''\n",
    "    for i in range(len(board)):\n",
    "        for j in rnage(len(board[0])):\n",
    "            if bo[i][j] == 0:\n",
    "                return(i, j)\n",
    "        return None"
   ]
  },
  {
   "cell_type": "code",
   "execution_count": 10,
   "metadata": {},
   "outputs": [],
   "source": [
    "def solve(board):\n",
    "    find = find_empty(board)\n",
    "    if not find:\n",
    "        return True\n",
    "    else:\n",
    "        row, cold = find\n",
    "    \n",
    "    for i in range(1,10):\n",
    "        if valid(board, i, (row, col)):\n",
    "            board[row][col] = 1\n",
    "            \n",
    "            if solve(board):\n",
    "                True\n",
    "            board[row][col] = 0 \n",
    "    return False"
   ]
  },
  {
   "cell_type": "code",
   "execution_count": null,
   "metadata": {},
   "outputs": [],
   "source": [
    "def valid(board, num, pos):\n",
    "    '''Check Row'''\n",
    "    for i in range(len(board[0])):\n",
    "        if board[pos[0]][i] == num and pos[1] != i:\n",
    "            return False\n",
    "    for i in range(len(board)):\n",
    "        if board[i][pos[1]] == num and pos[0] != i:\n",
    "            return False\n",
    "    "
   ]
  }
 ],
 "metadata": {
  "kernelspec": {
   "display_name": "learn-env",
   "language": "python",
   "name": "learn-env"
  },
  "language_info": {
   "codemirror_mode": {
    "name": "ipython",
    "version": 3
   },
   "file_extension": ".py",
   "mimetype": "text/x-python",
   "name": "python",
   "nbconvert_exporter": "python",
   "pygments_lexer": "ipython3",
   "version": "3.7.4"
  }
 },
 "nbformat": 4,
 "nbformat_minor": 2
}
